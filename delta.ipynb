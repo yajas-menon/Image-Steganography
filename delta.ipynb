{
 "cells": [
  {
   "cell_type": "code",
   "execution_count": null,
   "id": "4634ab08-0e89-48b1-bb34-e1d5cb00a82b",
   "metadata": {},
   "outputs": [
    {
     "name": "stdout",
     "output_type": "stream",
     "text": [
      "Populating the interactive namespace from numpy and matplotlib\n"
     ]
    }
   ],
   "source": [
    "%pylab inline"
   ]
  },
  {
   "cell_type": "code",
   "execution_count": 1,
   "id": "6049d3dd-0a7a-4ce2-b1e7-6feb84315f68",
   "metadata": {},
   "outputs": [],
   "source": [
    "from datetime import datetime \n",
    "\n",
    "start_time = datetime.now() \n",
    "\n",
    "import time\n",
    "time.sleep(3)"
   ]
  },
  {
   "cell_type": "code",
   "execution_count": 2,
   "id": "709e3db8-c35c-4aa2-b694-0614e25f63a5",
   "metadata": {},
   "outputs": [],
   "source": [
    "import warnings\n",
    "warnings.filterwarnings('ignore')"
   ]
  },
  {
   "cell_type": "code",
   "execution_count": 3,
   "id": "a321de06-5b02-4904-9a67-5f5f2a3fc300",
   "metadata": {},
   "outputs": [
    {
     "ename": "ModuleNotFoundError",
     "evalue": "No module named 'tensorflow'",
     "output_type": "error",
     "traceback": [
      "\u001b[1;31m---------------------------------------------------------------------------\u001b[0m",
      "\u001b[1;31mModuleNotFoundError\u001b[0m                       Traceback (most recent call last)",
      "\u001b[1;32mc:\\Users\\YAJAS\\OneDrive\\Desktop\\MInor Project\\delta.ipynb Cell 4\u001b[0m in \u001b[0;36m<cell line: 15>\u001b[1;34m()\u001b[0m\n\u001b[0;32m     <a href='vscode-notebook-cell:/c%3A/Users/YAJAS/OneDrive/Desktop/MInor%20Project/delta.ipynb#W3sZmlsZQ%3D%3D?line=11'>12</a>\u001b[0m \u001b[39mimport\u001b[39;00m \u001b[39mlogging\u001b[39;00m\n\u001b[0;32m     <a href='vscode-notebook-cell:/c%3A/Users/YAJAS/OneDrive/Desktop/MInor%20Project/delta.ipynb#W3sZmlsZQ%3D%3D?line=12'>13</a>\u001b[0m logging\u001b[39m.\u001b[39mgetLogger(\u001b[39m\"\u001b[39m\u001b[39mtensorflow\u001b[39m\u001b[39m\"\u001b[39m)\u001b[39m.\u001b[39msetLevel(logging\u001b[39m.\u001b[39mWARNING)\n\u001b[1;32m---> <a href='vscode-notebook-cell:/c%3A/Users/YAJAS/OneDrive/Desktop/MInor%20Project/delta.ipynb#W3sZmlsZQ%3D%3D?line=14'>15</a>\u001b[0m \u001b[39mimport\u001b[39;00m \u001b[39mtensorflow\u001b[39;00m\u001b[39m.\u001b[39;00m\u001b[39mcompat\u001b[39;00m\u001b[39m.\u001b[39;00m\u001b[39mv1\u001b[39;00m \u001b[39mas\u001b[39;00m \u001b[39mtf\u001b[39;00m\n\u001b[0;32m     <a href='vscode-notebook-cell:/c%3A/Users/YAJAS/OneDrive/Desktop/MInor%20Project/delta.ipynb#W3sZmlsZQ%3D%3D?line=16'>17</a>\u001b[0m gpu_devices \u001b[39m=\u001b[39m tf\u001b[39m.\u001b[39mconfig\u001b[39m.\u001b[39mexperimental\u001b[39m.\u001b[39mlist_physical_devices(\u001b[39m'\u001b[39m\u001b[39mGPU\u001b[39m\u001b[39m'\u001b[39m)\n\u001b[0;32m     <a href='vscode-notebook-cell:/c%3A/Users/YAJAS/OneDrive/Desktop/MInor%20Project/delta.ipynb#W3sZmlsZQ%3D%3D?line=17'>18</a>\u001b[0m tf\u001b[39m.\u001b[39mconfig\u001b[39m.\u001b[39mexperimental\u001b[39m.\u001b[39mset_memory_growth(gpu_devices[\u001b[39m0\u001b[39m], \u001b[39mTrue\u001b[39;00m)\n",
      "\u001b[1;31mModuleNotFoundError\u001b[0m: No module named 'tensorflow'"
     ]
    }
   ],
   "source": [
    "import glob\n",
    "from PIL import Image,ImageOps\n",
    "import random\n",
    "import os\n",
    "import time\n",
    "from datetime import datetime\n",
    "from os.path import join\n",
    "\n",
    "os.environ['TF_XLA_FLAGS'] = '--tf_xla_enable_xla_devices'\n",
    "os.environ['TF_CPP_MIN_LOG_LEVEL'] = '3'\n",
    "\n",
    "import logging\n",
    "logging.getLogger(\"tensorflow\").setLevel(logging.WARNING)\n",
    "\n",
    "import tensorflow.compat.v1 as tf\n",
    "\n",
    "gpu_devices = tf.config.experimental.list_physical_devices('GPU')\n",
    "tf.config.experimental.set_memory_growth(gpu_devices[0], True)\n",
    "\n",
    "print(\"Num GPUs Available: \", len(gpu_devices))"
   ]
  },
  {
   "cell_type": "code",
   "execution_count": null,
   "id": "dd61066e-81a4-46e7-b19c-92b02b44b76a",
   "metadata": {},
   "outputs": [],
   "source": [
    "TRAIN_PATH = './train/*'\n",
    "LOGS_Path = \"./logs/\"\n",
    "CHECKPOINTS_PATH = './checkpoints/'\n",
    "\n",
    "\n",
    "BATCH_SIZE = 4\n",
    "LEARNING_RATE = .0001\n",
    "BETA = .75\n",
    "\n",
    "EXP_NAME = f\"beta_{BETA}\""
   ]
  },
  {
   "cell_type": "code",
   "execution_count": 4,
   "id": "7dc72cc8-1929-41f7-a82e-ebe72943f6bc",
   "metadata": {},
   "outputs": [
    {
     "ename": "NameError",
     "evalue": "name 'TRAIN_PATH' is not defined",
     "output_type": "error",
     "traceback": [
      "\u001b[1;31m---------------------------------------------------------------------------\u001b[0m",
      "\u001b[1;31mNameError\u001b[0m                                 Traceback (most recent call last)",
      "\u001b[1;32mc:\\Users\\YAJAS\\OneDrive\\Desktop\\MInor Project\\delta.ipynb Cell 6\u001b[0m in \u001b[0;36m<cell line: 1>\u001b[1;34m()\u001b[0m\n\u001b[1;32m----> <a href='vscode-notebook-cell:/c%3A/Users/YAJAS/OneDrive/Desktop/MInor%20Project/delta.ipynb#W5sZmlsZQ%3D%3D?line=0'>1</a>\u001b[0m \u001b[39mprint\u001b[39m(\u001b[39m\"\u001b[39m\u001b[39mTotal no. of dataset: \u001b[39m\u001b[39m\"\u001b[39m, \u001b[39mlen\u001b[39m(glob\u001b[39m.\u001b[39mglob(TRAIN_PATH)))\n",
      "\u001b[1;31mNameError\u001b[0m: name 'TRAIN_PATH' is not defined"
     ]
    }
   ],
   "source": [
    "print(\"Total no. of dataset: \", len(glob.glob(TRAIN_PATH)))"
   ]
  },
  {
   "cell_type": "code",
   "execution_count": 5,
   "id": "85f77ebf-6f41-42c7-8cfa-5c8bdf137ca2",
   "metadata": {},
   "outputs": [
    {
     "ename": "NameError",
     "evalue": "name 'TRAIN_PATH' is not defined",
     "output_type": "error",
     "traceback": [
      "\u001b[1;31m---------------------------------------------------------------------------\u001b[0m",
      "\u001b[1;31mNameError\u001b[0m                                 Traceback (most recent call last)",
      "\u001b[1;32mc:\\Users\\YAJAS\\OneDrive\\Desktop\\MInor Project\\delta.ipynb Cell 7\u001b[0m in \u001b[0;36m<cell line: 1>\u001b[1;34m()\u001b[0m\n\u001b[1;32m----> <a href='vscode-notebook-cell:/c%3A/Users/YAJAS/OneDrive/Desktop/MInor%20Project/delta.ipynb#W6sZmlsZQ%3D%3D?line=0'>1</a>\u001b[0m files_list \u001b[39m=\u001b[39m glob\u001b[39m.\u001b[39mglob(TRAIN_PATH)\n\u001b[0;32m      <a href='vscode-notebook-cell:/c%3A/Users/YAJAS/OneDrive/Desktop/MInor%20Project/delta.ipynb#W6sZmlsZQ%3D%3D?line=2'>3</a>\u001b[0m \u001b[39mdef\u001b[39;00m \u001b[39mnormalize_batch\u001b[39m(imgs):\n\u001b[0;32m      <a href='vscode-notebook-cell:/c%3A/Users/YAJAS/OneDrive/Desktop/MInor%20Project/delta.ipynb#W6sZmlsZQ%3D%3D?line=3'>4</a>\u001b[0m     \u001b[39mreturn\u001b[39;00m (imgs \u001b[39m-\u001b[39m  np\u001b[39m.\u001b[39marray([\u001b[39m0.485\u001b[39m, \u001b[39m0.456\u001b[39m, \u001b[39m0.406\u001b[39m])) \u001b[39m/\u001b[39mnp\u001b[39m.\u001b[39marray([\u001b[39m0.229\u001b[39m, \u001b[39m0.224\u001b[39m, \u001b[39m0.225\u001b[39m])\n",
      "\u001b[1;31mNameError\u001b[0m: name 'TRAIN_PATH' is not defined"
     ]
    }
   ],
   "source": [
    "files_list = glob.glob(TRAIN_PATH)\n",
    "\n",
    "def normalize_batch(imgs):\n",
    "    return (imgs -  np.array([0.485, 0.456, 0.406])) /np.array([0.229, 0.224, 0.225])\n",
    "                                                        \n",
    "def denormalize_batch(imgs,should_clip=True):\n",
    "    imgs= (imgs * np.array([0.229, 0.224, 0.225])) + np.array([0.485, 0.456, 0.406])\n",
    "    \n",
    "    if should_clip:\n",
    "        imgs= np.clip(imgs,0,1)\n",
    "    return imgs\n",
    "\n",
    "def get_img_batch(files_list,batch_size=32,size=(224,224),should_normalise=True):\n",
    "   \n",
    "    batch_cover = []\n",
    "    batch_secret = []\n",
    "\n",
    "    for i in range(batch_size):\n",
    "        img_secret_path = random.choice(files_list)\n",
    "        img_cover_path = random.choice(files_list)\n",
    "        \n",
    "        img_secret = Image.open(img_secret_path).convert(\"RGB\")\n",
    "        img_cover = Image.open(img_cover_path).convert(\"RGB\")\n",
    "\n",
    "        img_secret = np.array(ImageOps.fit(img_secret,size),dtype=np.float32)\n",
    "        img_cover = np.array(ImageOps.fit(img_cover,size),dtype=np.float32)\n",
    "        \n",
    "        img_secret /= 255.\n",
    "        img_cover /= 255.\n",
    "        \n",
    "        batch_cover.append(img_cover)\n",
    "        batch_secret.append(img_secret)\n",
    "        \n",
    "    batch_cover,batch_secret = np.array(batch_cover) , np.array(batch_secret)\n",
    "    \n",
    "    if should_normalise:\n",
    "        batch_cover = normalize_batch(batch_cover)\n",
    "        batch_secret = normalize_batch(batch_secret)\n",
    "\n",
    "    return batch_cover,batch_secret"
   ]
  },
  {
   "cell_type": "code",
   "execution_count": 6,
   "id": "c452ff38-cbca-41cd-9a80-3897928bbdf8",
   "metadata": {},
   "outputs": [],
   "source": [
    "def get_prep_network_op(secret_tensor):\n",
    "    \n",
    "    with tf.variable_scope('prep_net'):\n",
    "        \n",
    "        with tf.variable_scope(\"3x3_conv_branch\"):\n",
    "            conv_3x3 = tf.layers.conv2d(inputs=secret_tensor,filters=50,kernel_size=6,padding='same',name=\"1\",activation=tf.nn.relu)\n",
    "            conv_3x3 = tf.layers.conv2d(inputs=conv_3x3,filters=50,kernel_size=6,padding='same',name=\"2\",activation=tf.nn.relu)\n",
    "            conv_3x3 = tf.layers.conv2d(inputs=conv_3x3,filters=50,kernel_size=6,padding='same',name=\"3\",activation=tf.nn.relu)\n",
    "            conv_3x3 = tf.layers.conv2d(inputs=conv_3x3,filters=50,kernel_size=6,padding='same',name=\"4\",activation=tf.nn.relu)\n",
    "            conv_3x3 = tf.layers.conv2d(inputs=conv_3x3,filters=50,kernel_size=6,padding='same',name=\"5\",activation=tf.nn.relu)\n",
    "            \n",
    "        with tf.variable_scope(\"4x4_conv_branch\"):\n",
    "            conv_4x4 = tf.layers.conv2d(inputs=secret_tensor,filters=50,kernel_size=4,padding='same',name=\"1\",activation=tf.nn.relu)\n",
    "            conv_4x4 = tf.layers.conv2d(inputs=conv_4x4,filters=50,kernel_size=4,padding='same',name=\"2\",activation=tf.nn.relu)           \n",
    "            conv_4x4 = tf.layers.conv2d(inputs=conv_4x4,filters=50,kernel_size=4,padding='same',name=\"3\",activation=tf.nn.relu)\n",
    "            conv_4x4 = tf.layers.conv2d(inputs=conv_4x4,filters=50,kernel_size=4,padding='same',name=\"4\",activation=tf.nn.relu)\n",
    "            conv_4x4 = tf.layers.conv2d(inputs=conv_4x4,filters=50,kernel_size=4,padding='same',name=\"5\",activation=tf.nn.relu)\n",
    "\n",
    "        with tf.variable_scope(\"5x5_conv_branch\"):\n",
    "            conv_5x5 = tf.layers.conv2d(inputs=secret_tensor,filters=50,kernel_size=5,padding='same',name=\"1\",activation=tf.nn.relu)\n",
    "            conv_5x5 = tf.layers.conv2d(inputs=conv_5x5,filters=50,kernel_size=5,padding='same',name=\"2\",activation=tf.nn.relu)           \n",
    "            conv_5x5 = tf.layers.conv2d(inputs=conv_5x5,filters=50,kernel_size=5,padding='same',name=\"3\",activation=tf.nn.relu)\n",
    "            conv_4x4 = tf.layers.conv2d(inputs=conv_4x4,filters=50,kernel_size=4,padding='same',name=\"4\",activation=tf.nn.relu)\n",
    "            conv_4x4 = tf.layers.conv2d(inputs=conv_4x4,filters=50,kernel_size=4,padding='same',name=\"5\",activation=tf.nn.relu)\n",
    "            \n",
    "        concat_1 = tf.concat([conv_3x3],axis=3,name='concat_1')\n",
    "        \n",
    "        conv_5x5 = tf.layers.conv2d(inputs=concat_1,filters=50,kernel_size=5,padding='same',name=\"final_5x5\",activation=tf.nn.relu)\n",
    "        conv_4x4 = tf.layers.conv2d(inputs=concat_1,filters=50,kernel_size=4,padding='same',name=\"final_4x4\",activation=tf.nn.relu)\n",
    "        conv_3x3 = tf.layers.conv2d(inputs=concat_1,filters=50,kernel_size=6,padding='same',name=\"final_3x3\",activation=tf.nn.relu)\n",
    "        \n",
    "        concat_final = tf.concat([conv_3x3],axis=3,name='concat_final')\n",
    "\n",
    "        return concat_final\n",
    "\n",
    "    \n",
    "def get_hiding_network_op(cover_tensor,prep_output):\n",
    "    \n",
    "    with tf.variable_scope('hide_net'):\n",
    "        concat_input = tf.concat([cover_tensor,prep_output],axis=3,name='images_features_concat')\n",
    "        \n",
    "        with tf.variable_scope(\"3x3_conv_branch\"):\n",
    "            conv_3x3 = tf.layers.conv2d(inputs=concat_input,filters=50,kernel_size=6,padding='same',name=\"1\",activation=tf.nn.relu)\n",
    "            conv_3x3 = tf.layers.conv2d(inputs=conv_3x3,filters=50,kernel_size=6,padding='same',name=\"2\",activation=tf.nn.relu)\n",
    "            conv_3x3 = tf.layers.conv2d(inputs=conv_3x3,filters=50,kernel_size=6,padding='same',name=\"3\",activation=tf.nn.relu)\n",
    "            conv_3x3 = tf.layers.conv2d(inputs=conv_3x3,filters=50,kernel_size=6,padding='same',name=\"4\",activation=tf.nn.relu)\n",
    "            conv_3x3 = tf.layers.conv2d(inputs=conv_3x3,filters=50,kernel_size=6,padding='same',name=\"5\",activation=tf.nn.relu)\n",
    "            \n",
    "        with tf.variable_scope(\"4x4_conv_branch\"):\n",
    "            conv_4x4 = tf.layers.conv2d(inputs=concat_input,filters=50,kernel_size=4,padding='same',name=\"1\",activation=tf.nn.relu)\n",
    "            conv_4x4 = tf.layers.conv2d(inputs=conv_4x4,filters=50,kernel_size=4,padding='same',name=\"2\",activation=tf.nn.relu)          \n",
    "            conv_4x4 = tf.layers.conv2d(inputs=conv_4x4,filters=50,kernel_size=4,padding='same',name=\"3\",activation=tf.nn.relu)\n",
    "            conv_4x4 = tf.layers.conv2d(inputs=conv_4x4,filters=50,kernel_size=4,padding='same',name=\"4\",activation=tf.nn.relu)\n",
    "            conv_4x4 = tf.layers.conv2d(inputs=conv_4x4,filters=50,kernel_size=4,padding='same',name=\"5\",activation=tf.nn.relu)\n",
    "\n",
    "        with tf.variable_scope(\"5x5_conv_branch\"):\n",
    "            conv_5x5 = tf.layers.conv2d(inputs=concat_input,filters=50,kernel_size=5,padding='same',name=\"1\",activation=tf.nn.relu)\n",
    "            conv_5x5 = tf.layers.conv2d(inputs=conv_5x5,filters=50,kernel_size=5,padding='same',name=\"2\",activation=tf.nn.relu)          \n",
    "            conv_5x5 = tf.layers.conv2d(inputs=conv_5x5,filters=50,kernel_size=5,padding='same',name=\"3\",activation=tf.nn.relu)\n",
    "            conv_5x5 = tf.layers.conv2d(inputs=conv_5x5,filters=50,kernel_size=5,padding='same',name=\"4\",activation=tf.nn.relu)\n",
    "            conv_5x5 = tf.layers.conv2d(inputs=conv_5x5,filters=50,kernel_size=5,padding='same',name=\"5\",activation=tf.nn.relu)\n",
    "            \n",
    "        concat_1 = tf.concat([conv_3x3],axis=3,name='concat_1')\n",
    "        \n",
    "        conv_5x5 = tf.layers.conv2d(inputs=concat_1,filters=50,kernel_size=5,padding='same',name=\"final_5x5\",activation=tf.nn.relu)\n",
    "        conv_4x4 = tf.layers.conv2d(inputs=concat_1,filters=50,kernel_size=4,padding='same',name=\"final_4x4\",activation=tf.nn.relu)\n",
    "        conv_3x3 = tf.layers.conv2d(inputs=concat_1,filters=50,kernel_size=6,padding='same',name=\"final_3x3\",activation=tf.nn.relu)\n",
    "        \n",
    "        concat_final = tf.concat([conv_3x3],axis=3,name='concat_final')\n",
    "        output = tf.layers.conv2d(inputs=concat_final,filters=3,kernel_size=1,padding='same',name='output')\n",
    "        \n",
    "        return output\n",
    "    \n",
    "        \n",
    "        \n",
    "def get_reveal_network_op(container_tensor):\n",
    "    \n",
    "    with tf.variable_scope('reveal_net'):\n",
    "        \n",
    "        with tf.variable_scope(\"3x3_conv_branch\"):\n",
    "            conv_3x3 = tf.layers.conv2d(inputs=container_tensor,filters=50,kernel_size=6,padding='same',name=\"1\",activation=tf.nn.relu)\n",
    "            conv_3x3 = tf.layers.conv2d(inputs=conv_3x3,filters=50,kernel_size=6,padding='same',name=\"2\",activation=tf.nn.relu)\n",
    "            conv_3x3 = tf.layers.conv2d(inputs=conv_3x3,filters=50,kernel_size=6,padding='same',name=\"3\",activation=tf.nn.relu)\n",
    "            conv_3x3 = tf.layers.conv2d(inputs=conv_3x3,filters=50,kernel_size=6,padding='same',name=\"4\",activation=tf.nn.relu)\n",
    "            conv_3x3 = tf.layers.conv2d(inputs=conv_3x3,filters=50,kernel_size=6,padding='same',name=\"5\",activation=tf.nn.relu)\n",
    "            \n",
    "        with tf.variable_scope(\"4x4_conv_branch\"):\n",
    "            conv_4x4 = tf.layers.conv2d(inputs=container_tensor,filters=50,kernel_size=4,padding='same',name=\"1\",activation=tf.nn.relu)\n",
    "            conv_4x4 = tf.layers.conv2d(inputs=conv_4x4,filters=50,kernel_size=4,padding='same',name=\"2\",activation=tf.nn.relu)          \n",
    "            conv_4x4 = tf.layers.conv2d(inputs=conv_4x4,filters=50,kernel_size=4,padding='same',name=\"3\",activation=tf.nn.relu)\n",
    "            conv_4x4 = tf.layers.conv2d(inputs=conv_4x4,filters=50,kernel_size=4,padding='same',name=\"4\",activation=tf.nn.relu)\n",
    "            conv_4x4 = tf.layers.conv2d(inputs=conv_4x4,filters=50,kernel_size=4,padding='same',name=\"5\",activation=tf.nn.relu)\n",
    "\n",
    "        with tf.variable_scope(\"5x5_conv_branch\"):\n",
    "            conv_5x5 = tf.layers.conv2d(inputs=container_tensor,filters=50,kernel_size=5,padding='same',name=\"1\",activation=tf.nn.relu)\n",
    "            conv_5x5 = tf.layers.conv2d(inputs=conv_5x5,filters=50,kernel_size=5,padding='same',name=\"2\",activation=tf.nn.relu)           \n",
    "            conv_5x5 = tf.layers.conv2d(inputs=conv_5x5,filters=50,kernel_size=5,padding='same',name=\"3\",activation=tf.nn.relu)\n",
    "            conv_5x5 = tf.layers.conv2d(inputs=conv_5x5,filters=50,kernel_size=5,padding='same',name=\"4\",activation=tf.nn.relu)\n",
    "            conv_5x5 = tf.layers.conv2d(inputs=conv_5x5,filters=50,kernel_size=5,padding='same',name=\"5\",activation=tf.nn.relu)\n",
    "            \n",
    "        concat_1 = tf.concat([conv_3x3],axis=3,name='concat_1')\n",
    "        \n",
    "        conv_5x5 = tf.layers.conv2d(inputs=concat_1,filters=50,kernel_size=5,padding='same',name=\"final_5x5\",activation=tf.nn.relu)\n",
    "        conv_4x4 = tf.layers.conv2d(inputs=concat_1,filters=50,kernel_size=4,padding='same',name=\"final_4x4\",activation=tf.nn.relu)\n",
    "        conv_3x3 = tf.layers.conv2d(inputs=concat_1,filters=50,kernel_size=6,padding='same',name=\"final_3x3\",activation=tf.nn.relu)\n",
    "        \n",
    "        concat_final = tf.concat([conv_3x3],axis=3,name='concat_final')\n",
    "    \n",
    "    output = tf.layers.conv2d(inputs=concat_final,filters=3,kernel_size=1,padding='same',name='output')\n",
    "\n",
    "    return output\n",
    "\n",
    "def get_noise_layer_op(tensor,std=.1):\n",
    "    with tf.variable_scope(\"noise_layer\"):\n",
    "        return tensor + tf.random_normal(shape=tf.shape(tensor), mean=0.0, stddev=std, dtype=tf.float32) \n",
    "    \n",
    "def get_loss_op(secret_true,secret_pred,cover_true,cover_pred,beta=.5):\n",
    "    \n",
    "    with tf.variable_scope(\"losses\"):\n",
    "        beta = tf.constant(beta,name=\"beta\")\n",
    "        secret_mse = tf.losses.mean_squared_error(secret_true,secret_pred)\n",
    "        cover_mse = tf.losses.mean_squared_error(cover_true,cover_pred)\n",
    "        final_loss = cover_mse + beta*secret_mse\n",
    "        return final_loss , secret_mse , cover_mse \n",
    "\n",
    "def get_tensor_to_img_op(tensor):\n",
    "    with tf.variable_scope(\"\",reuse=True):\n",
    "        t = tensor*tf.convert_to_tensor([0.229, 0.224, 0.225]) + tf.convert_to_tensor([0.485, 0.456, 0.406])\n",
    "        return tf.clip_by_value(t,0,1)"
   ]
  },
  {
   "cell_type": "code",
   "execution_count": 7,
   "id": "5781dac1-9f9d-4c93-93f7-a9630f018eb7",
   "metadata": {},
   "outputs": [],
   "source": [
    "def prepare_training_graph(secret_tensor,cover_tensor,global_step_tensor):\n",
    "    \n",
    "    prep_output_op = get_prep_network_op(secret_tensor)\n",
    "    hiding_output_op = get_hiding_network_op(cover_tensor=cover_tensor,prep_output=prep_output_op)\n",
    "    noise_add_op = get_noise_layer_op(hiding_output_op)\n",
    "    reveal_output_op = get_reveal_network_op(noise_add_op)\n",
    "    \n",
    "    loss_op,secret_loss_op,cover_loss_op = get_loss_op(secret_tensor,reveal_output_op,cover_tensor,hiding_output_op,beta=BETA)\n",
    "\n",
    "    minimize_op = tf.train.AdamOptimizer(LEARNING_RATE).minimize(loss_op,global_step=global_step_tensor)\n",
    "    \n",
    "    tf.summary.scalar('loss', loss_op,family='train')\n",
    "    tf.summary.scalar('reveal_net_loss', secret_loss_op,family='train')\n",
    "    tf.summary.scalar('cover_net_loss', cover_loss_op,family='train')\n",
    "\n",
    "    tf.summary.image('secret',get_tensor_to_img_op(secret_tensor),max_outputs=1,family='train')\n",
    "    tf.summary.image('cover',get_tensor_to_img_op(cover_tensor),max_outputs=1,family='train')\n",
    "    tf.summary.image('hidden',get_tensor_to_img_op(hiding_output_op),max_outputs=1,family='train')\n",
    "    tf.summary.image('hidden_noisy',get_tensor_to_img_op(noise_add_op),max_outputs=1,family='train')\n",
    "    tf.summary.image('revealed',get_tensor_to_img_op(reveal_output_op),max_outputs=1,family='train')\n",
    "\n",
    "    merged_summary_op = tf.summary.merge_all()\n",
    "    \n",
    "    return minimize_op, merged_summary_op"
   ]
  },
  {
   "cell_type": "code",
   "execution_count": 8,
   "id": "50677de9-4f0c-4841-8714-6642c4804b16",
   "metadata": {},
   "outputs": [],
   "source": [
    "def prepare_test_graph(secret_tensor,cover_tensor):\n",
    "    with tf.variable_scope(\"\",reuse=True):\n",
    "    \n",
    "        prep_output_op = get_prep_network_op(secret_tensor)\n",
    "        hiding_output_op = get_hiding_network_op(cover_tensor=cover_tensor,prep_output=prep_output_op)\n",
    "        reveal_output_op = get_reveal_network_op(hiding_output_op)\n",
    "        \n",
    "        loss_op,secret_loss_op,cover_loss_op = get_loss_op(secret_tensor,reveal_output_op,cover_tensor,hiding_output_op)\n",
    "\n",
    "        tf.summary.scalar('loss', loss_op,family='test')\n",
    "        tf.summary.scalar('reveal_net_loss', secret_loss_op,family='test')\n",
    "        tf.summary.scalar('cover_net_loss', cover_loss_op,family='test')\n",
    "\n",
    "        tf.summary.image('secret',get_tensor_to_img_op(secret_tensor),max_outputs=1,family='test')\n",
    "        tf.summary.image('cover',get_tensor_to_img_op(cover_tensor),max_outputs=1,family='test')\n",
    "        tf.summary.image('hidden',get_tensor_to_img_op(hiding_output_op),max_outputs=1,family='test')\n",
    "        tf.summary.image('revealed',get_tensor_to_img_op(reveal_output_op),max_outputs=1,family='test')\n",
    "\n",
    "        merged_summary_op = tf.summary.merge_all()\n",
    "\n",
    "        return merged_summary_op"
   ]
  },
  {
   "cell_type": "code",
   "execution_count": 9,
   "id": "21ad653c-269b-4ad3-b78b-44f7d02f939c",
   "metadata": {},
   "outputs": [],
   "source": [
    "def prepare_deployment_graph(secret_tensor,cover_tensor,covered_tensor):\n",
    "    with tf.variable_scope(\"\",reuse=True):\n",
    "\n",
    "        prep_output_op = get_prep_network_op(secret_tensor)\n",
    "        hiding_output_op = get_hiding_network_op(cover_tensor=cover_tensor,prep_output=prep_output_op)\n",
    "\n",
    "        reveal_output_op = get_reveal_network_op(covered_tensor)\n",
    "\n",
    "        return hiding_output_op ,  reveal_output_op"
   ]
  },
  {
   "cell_type": "code",
   "execution_count": 10,
   "id": "c88a448c-0ab7-4224-ae92-368c84cb5770",
   "metadata": {},
   "outputs": [
    {
     "ename": "NameError",
     "evalue": "name 'tf' is not defined",
     "output_type": "error",
     "traceback": [
      "\u001b[1;31m---------------------------------------------------------------------------\u001b[0m",
      "\u001b[1;31mNameError\u001b[0m                                 Traceback (most recent call last)",
      "\u001b[1;32mc:\\Users\\YAJAS\\OneDrive\\Desktop\\MInor Project\\delta.ipynb Cell 12\u001b[0m in \u001b[0;36m<cell line: 1>\u001b[1;34m()\u001b[0m\n\u001b[1;32m----> <a href='vscode-notebook-cell:/c%3A/Users/YAJAS/OneDrive/Desktop/MInor%20Project/delta.ipynb#X14sZmlsZQ%3D%3D?line=0'>1</a>\u001b[0m sess \u001b[39m=\u001b[39m tf\u001b[39m.\u001b[39mInteractiveSession(graph\u001b[39m=\u001b[39mtf\u001b[39m.\u001b[39mGraph())\n",
      "\u001b[1;31mNameError\u001b[0m: name 'tf' is not defined"
     ]
    }
   ],
   "source": [
    "sess = tf.InteractiveSession(graph=tf.Graph())"
   ]
  },
  {
   "cell_type": "code",
   "execution_count": 11,
   "id": "deb059bc-2c16-4753-9a25-0eed7516a648",
   "metadata": {},
   "outputs": [
    {
     "ename": "NameError",
     "evalue": "name 'tf' is not defined",
     "output_type": "error",
     "traceback": [
      "\u001b[1;31m---------------------------------------------------------------------------\u001b[0m",
      "\u001b[1;31mNameError\u001b[0m                                 Traceback (most recent call last)",
      "\u001b[1;32mc:\\Users\\YAJAS\\OneDrive\\Desktop\\MInor Project\\delta.ipynb Cell 13\u001b[0m in \u001b[0;36m<cell line: 1>\u001b[1;34m()\u001b[0m\n\u001b[1;32m----> <a href='vscode-notebook-cell:/c%3A/Users/YAJAS/OneDrive/Desktop/MInor%20Project/delta.ipynb#X15sZmlsZQ%3D%3D?line=0'>1</a>\u001b[0m secret_tensor \u001b[39m=\u001b[39m tf\u001b[39m.\u001b[39mplaceholder(shape\u001b[39m=\u001b[39m[\u001b[39mNone\u001b[39;00m,\u001b[39m224\u001b[39m,\u001b[39m224\u001b[39m,\u001b[39m3\u001b[39m],dtype\u001b[39m=\u001b[39mtf\u001b[39m.\u001b[39mfloat32,name\u001b[39m=\u001b[39m\u001b[39m\"\u001b[39m\u001b[39minput_prep\u001b[39m\u001b[39m\"\u001b[39m)\n\u001b[0;32m      <a href='vscode-notebook-cell:/c%3A/Users/YAJAS/OneDrive/Desktop/MInor%20Project/delta.ipynb#X15sZmlsZQ%3D%3D?line=1'>2</a>\u001b[0m cover_tensor \u001b[39m=\u001b[39m tf\u001b[39m.\u001b[39mplaceholder(shape\u001b[39m=\u001b[39m[\u001b[39mNone\u001b[39;00m,\u001b[39m224\u001b[39m,\u001b[39m224\u001b[39m,\u001b[39m3\u001b[39m],dtype\u001b[39m=\u001b[39mtf\u001b[39m.\u001b[39mfloat32,name\u001b[39m=\u001b[39m\u001b[39m\"\u001b[39m\u001b[39minput_hide\u001b[39m\u001b[39m\"\u001b[39m)\n\u001b[0;32m      <a href='vscode-notebook-cell:/c%3A/Users/YAJAS/OneDrive/Desktop/MInor%20Project/delta.ipynb#X15sZmlsZQ%3D%3D?line=2'>3</a>\u001b[0m global_step_tensor \u001b[39m=\u001b[39m tf\u001b[39m.\u001b[39mVariable(\u001b[39m0\u001b[39m, trainable\u001b[39m=\u001b[39m\u001b[39mFalse\u001b[39;00m, name\u001b[39m=\u001b[39m\u001b[39m'\u001b[39m\u001b[39mglobal_step\u001b[39m\u001b[39m'\u001b[39m)\n",
      "\u001b[1;31mNameError\u001b[0m: name 'tf' is not defined"
     ]
    }
   ],
   "source": [
    "secret_tensor = tf.placeholder(shape=[None,224,224,3],dtype=tf.float32,name=\"input_prep\")\n",
    "cover_tensor = tf.placeholder(shape=[None,224,224,3],dtype=tf.float32,name=\"input_hide\")\n",
    "global_step_tensor = tf.Variable(0, trainable=False, name='global_step')\n",
    "\n",
    "train_op , summary_op = prepare_training_graph(secret_tensor,cover_tensor,global_step_tensor)\n",
    "\n",
    "writer = tf.summary.FileWriter(join(LOGS_Path,EXP_NAME),sess.graph)\n",
    "\n",
    "test_op = prepare_test_graph(secret_tensor,cover_tensor)\n",
    "\n",
    "covered_tensor = tf.placeholder(shape=[None,224,224,3],dtype=tf.float32,name=\"deploy_covered\")\n",
    "deploy_hide_image_op , deploy_reveal_image_op = prepare_deployment_graph(secret_tensor,cover_tensor,covered_tensor)"
   ]
  },
  {
   "cell_type": "code",
   "execution_count": 12,
   "id": "cda47cf8-c6f9-465c-911e-143913a7d952",
   "metadata": {},
   "outputs": [
    {
     "ename": "NameError",
     "evalue": "name 'tf' is not defined",
     "output_type": "error",
     "traceback": [
      "\u001b[1;31m---------------------------------------------------------------------------\u001b[0m",
      "\u001b[1;31mNameError\u001b[0m                                 Traceback (most recent call last)",
      "\u001b[1;32mc:\\Users\\YAJAS\\OneDrive\\Desktop\\MInor Project\\delta.ipynb Cell 14\u001b[0m in \u001b[0;36m<cell line: 1>\u001b[1;34m()\u001b[0m\n\u001b[1;32m----> <a href='vscode-notebook-cell:/c%3A/Users/YAJAS/OneDrive/Desktop/MInor%20Project/delta.ipynb#X16sZmlsZQ%3D%3D?line=0'>1</a>\u001b[0m saver \u001b[39m=\u001b[39m tf\u001b[39m.\u001b[39mtrain\u001b[39m.\u001b[39mSaver(max_to_keep\u001b[39m=\u001b[39m\u001b[39m1\u001b[39m)\n\u001b[0;32m      <a href='vscode-notebook-cell:/c%3A/Users/YAJAS/OneDrive/Desktop/MInor%20Project/delta.ipynb#X16sZmlsZQ%3D%3D?line=1'>2</a>\u001b[0m sess\u001b[39m.\u001b[39mrun(tf\u001b[39m.\u001b[39mglobal_variables_initializer())\n",
      "\u001b[1;31mNameError\u001b[0m: name 'tf' is not defined"
     ]
    }
   ],
   "source": [
    "saver = tf.train.Saver(max_to_keep=1)\n",
    "sess.run(tf.global_variables_initializer())"
   ]
  },
  {
   "cell_type": "code",
   "execution_count": null,
   "id": "d76b6465-1214-4b77-a742-8551c397a23d",
   "metadata": {},
   "outputs": [
    {
     "data": {
      "text/plain": [
       "4"
      ]
     },
     "execution_count": 15,
     "metadata": {},
     "output_type": "execute_result"
    }
   ],
   "source": [
    "total_steps = len(files_list)//BATCH_SIZE + 1\n",
    "BATCH_SIZE"
   ]
  },
  {
   "cell_type": "code",
   "execution_count": 13,
   "id": "5b6677e7-a850-4b30-82f6-a1e90067176a",
   "metadata": {},
   "outputs": [
    {
     "ename": "NameError",
     "evalue": "name 'total_steps' is not defined",
     "output_type": "error",
     "traceback": [
      "\u001b[1;31m---------------------------------------------------------------------------\u001b[0m",
      "\u001b[1;31mNameError\u001b[0m                                 Traceback (most recent call last)",
      "\u001b[1;32mc:\\Users\\YAJAS\\OneDrive\\Desktop\\MInor Project\\delta.ipynb Cell 16\u001b[0m in \u001b[0;36m<cell line: 1>\u001b[1;34m()\u001b[0m\n\u001b[0;32m      <a href='vscode-notebook-cell:/c%3A/Users/YAJAS/OneDrive/Desktop/MInor%20Project/delta.ipynb#X21sZmlsZQ%3D%3D?line=0'>1</a>\u001b[0m \u001b[39mfor\u001b[39;00m ep \u001b[39min\u001b[39;00m \u001b[39mrange\u001b[39m(\u001b[39m200\u001b[39m):\n\u001b[1;32m----> <a href='vscode-notebook-cell:/c%3A/Users/YAJAS/OneDrive/Desktop/MInor%20Project/delta.ipynb#X21sZmlsZQ%3D%3D?line=1'>2</a>\u001b[0m     \u001b[39mfor\u001b[39;00m step \u001b[39min\u001b[39;00m \u001b[39mrange\u001b[39m(total_steps):\n\u001b[0;32m      <a href='vscode-notebook-cell:/c%3A/Users/YAJAS/OneDrive/Desktop/MInor%20Project/delta.ipynb#X21sZmlsZQ%3D%3D?line=2'>3</a>\u001b[0m         covers,secrets \u001b[39m=\u001b[39m get_img_batch(files_list\u001b[39m=\u001b[39mfiles_list,batch_size\u001b[39m=\u001b[39mBATCH_SIZE)\n\u001b[0;32m      <a href='vscode-notebook-cell:/c%3A/Users/YAJAS/OneDrive/Desktop/MInor%20Project/delta.ipynb#X21sZmlsZQ%3D%3D?line=3'>4</a>\u001b[0m         sess\u001b[39m.\u001b[39mrun([train_op],feed_dict\u001b[39m=\u001b[39m{\u001b[39m\"\u001b[39m\u001b[39minput_prep:0\u001b[39m\u001b[39m\"\u001b[39m:secrets,\u001b[39m\"\u001b[39m\u001b[39minput_hide:0\u001b[39m\u001b[39m\"\u001b[39m:covers})\n",
      "\u001b[1;31mNameError\u001b[0m: name 'total_steps' is not defined"
     ]
    }
   ],
   "source": [
    "for ep in range(200):\n",
    "    for step in range(total_steps):\n",
    "        covers,secrets = get_img_batch(files_list=files_list,batch_size=BATCH_SIZE)\n",
    "        sess.run([train_op],feed_dict={\"input_prep:0\":secrets,\"input_hide:0\":covers})\n",
    "        \n",
    "        if step % 10 ==0 :\n",
    "            \n",
    "            summary,global_step = sess.run([summary_op,global_step_tensor],feed_dict={\"input_prep:0\":secrets,\"input_hide:0\":covers})\n",
    "            writer.add_summary(summary,global_step)\n",
    "            \n",
    "        if step % 100 ==0 :\n",
    "            \n",
    "            covers,secrets = get_img_batch(files_list=files_list,batch_size=1)\n",
    "            summary,global_step = sess.run([test_op,global_step_tensor],feed_dict={\"input_prep:0\":secrets,\"input_hide:0\":covers})\n",
    "            writer.add_summary(summary,global_step)\n",
    "\n",
    "    \n",
    "    save_path = saver.save(sess, join(CHECKPOINTS_PATH,EXP_NAME+\".chkp\"),global_step=global_step)"
   ]
  },
  {
   "cell_type": "code",
   "execution_count": 14,
   "id": "dbffa039-aebd-4d63-95c1-283b67cdad9e",
   "metadata": {},
   "outputs": [
    {
     "ename": "NameError",
     "evalue": "name 'writer' is not defined",
     "output_type": "error",
     "traceback": [
      "\u001b[1;31m---------------------------------------------------------------------------\u001b[0m",
      "\u001b[1;31mNameError\u001b[0m                                 Traceback (most recent call last)",
      "\u001b[1;32mc:\\Users\\YAJAS\\OneDrive\\Desktop\\MInor Project\\delta.ipynb Cell 17\u001b[0m in \u001b[0;36m<cell line: 1>\u001b[1;34m()\u001b[0m\n\u001b[1;32m----> <a href='vscode-notebook-cell:/c%3A/Users/YAJAS/OneDrive/Desktop/MInor%20Project/delta.ipynb#X22sZmlsZQ%3D%3D?line=0'>1</a>\u001b[0m writer\u001b[39m.\u001b[39mclose()\n",
      "\u001b[1;31mNameError\u001b[0m: name 'writer' is not defined"
     ]
    }
   ],
   "source": [
    "writer.close()"
   ]
  },
  {
   "cell_type": "code",
   "execution_count": 15,
   "id": "a9851cfe-ad99-4867-91c1-37c408156100",
   "metadata": {},
   "outputs": [
    {
     "ename": "NameError",
     "evalue": "name 'get_img_batch' is not defined",
     "output_type": "error",
     "traceback": [
      "\u001b[1;31m---------------------------------------------------------------------------\u001b[0m",
      "\u001b[1;31mNameError\u001b[0m                                 Traceback (most recent call last)",
      "\u001b[1;32mc:\\Users\\YAJAS\\OneDrive\\Desktop\\MInor Project\\delta.ipynb Cell 18\u001b[0m in \u001b[0;36m<cell line: 1>\u001b[1;34m()\u001b[0m\n\u001b[1;32m----> <a href='vscode-notebook-cell:/c%3A/Users/YAJAS/OneDrive/Desktop/MInor%20Project/delta.ipynb#X23sZmlsZQ%3D%3D?line=0'>1</a>\u001b[0m covers,secrets \u001b[39m=\u001b[39m get_img_batch(files_list\u001b[39m=\u001b[39mfiles_list,batch_size\u001b[39m=\u001b[39m\u001b[39m1\u001b[39m)\n\u001b[0;32m      <a href='vscode-notebook-cell:/c%3A/Users/YAJAS/OneDrive/Desktop/MInor%20Project/delta.ipynb#X23sZmlsZQ%3D%3D?line=2'>3</a>\u001b[0m cover \u001b[39m=\u001b[39m covers\u001b[39m.\u001b[39msqueeze()\n\u001b[0;32m      <a href='vscode-notebook-cell:/c%3A/Users/YAJAS/OneDrive/Desktop/MInor%20Project/delta.ipynb#X23sZmlsZQ%3D%3D?line=3'>4</a>\u001b[0m secret \u001b[39m=\u001b[39m secrets\u001b[39m.\u001b[39msqueeze()\n",
      "\u001b[1;31mNameError\u001b[0m: name 'get_img_batch' is not defined"
     ]
    }
   ],
   "source": [
    "covers,secrets = get_img_batch(files_list=files_list,batch_size=1)\n",
    "\n",
    "cover = covers.squeeze()\n",
    "secret = secrets.squeeze()\n",
    "plt.imshow(denormalize_batch(cover))\n",
    "plt.show()\n",
    "plt.imshow(denormalize_batch(secret))\n",
    "plt.show()"
   ]
  },
  {
   "cell_type": "code",
   "execution_count": 16,
   "id": "57c0ba0f-0fea-4e47-b370-81f3b6f316f1",
   "metadata": {},
   "outputs": [
    {
     "ename": "NameError",
     "evalue": "name 'sess' is not defined",
     "output_type": "error",
     "traceback": [
      "\u001b[1;31m---------------------------------------------------------------------------\u001b[0m",
      "\u001b[1;31mNameError\u001b[0m                                 Traceback (most recent call last)",
      "\u001b[1;32mc:\\Users\\YAJAS\\OneDrive\\Desktop\\MInor Project\\delta.ipynb Cell 19\u001b[0m in \u001b[0;36m<cell line: 1>\u001b[1;34m()\u001b[0m\n\u001b[1;32m----> <a href='vscode-notebook-cell:/c%3A/Users/YAJAS/OneDrive/Desktop/MInor%20Project/delta.ipynb#X24sZmlsZQ%3D%3D?line=0'>1</a>\u001b[0m hidden \u001b[39m=\u001b[39m sess\u001b[39m.\u001b[39mrun(deploy_hide_image_op,feed_dict\u001b[39m=\u001b[39m{\u001b[39m'\u001b[39m\u001b[39minput_prep:0\u001b[39m\u001b[39m'\u001b[39m:secrets,\u001b[39m'\u001b[39m\u001b[39minput_hide:0\u001b[39m\u001b[39m'\u001b[39m:covers})\n\u001b[0;32m      <a href='vscode-notebook-cell:/c%3A/Users/YAJAS/OneDrive/Desktop/MInor%20Project/delta.ipynb#X24sZmlsZQ%3D%3D?line=2'>3</a>\u001b[0m plt\u001b[39m.\u001b[39mimshow(denormalize_batch(hidden\u001b[39m.\u001b[39msqueeze()))\n",
      "\u001b[1;31mNameError\u001b[0m: name 'sess' is not defined"
     ]
    }
   ],
   "source": [
    "hidden = sess.run(deploy_hide_image_op,feed_dict={'input_prep:0':secrets,'input_hide:0':covers})\n",
    "\n",
    "plt.imshow(denormalize_batch(hidden.squeeze()))"
   ]
  },
  {
   "cell_type": "code",
   "execution_count": 17,
   "id": "101d2159-18ee-4e42-b913-8cdfa7cf7a2a",
   "metadata": {},
   "outputs": [
    {
     "ename": "NameError",
     "evalue": "name 'sess' is not defined",
     "output_type": "error",
     "traceback": [
      "\u001b[1;31m---------------------------------------------------------------------------\u001b[0m",
      "\u001b[1;31mNameError\u001b[0m                                 Traceback (most recent call last)",
      "\u001b[1;32mc:\\Users\\YAJAS\\OneDrive\\Desktop\\MInor Project\\delta.ipynb Cell 20\u001b[0m in \u001b[0;36m<cell line: 1>\u001b[1;34m()\u001b[0m\n\u001b[1;32m----> <a href='vscode-notebook-cell:/c%3A/Users/YAJAS/OneDrive/Desktop/MInor%20Project/delta.ipynb#X25sZmlsZQ%3D%3D?line=0'>1</a>\u001b[0m revealed \u001b[39m=\u001b[39m sess\u001b[39m.\u001b[39mrun(deploy_reveal_image_op,feed_dict\u001b[39m=\u001b[39m{\u001b[39m'\u001b[39m\u001b[39mdeploy_covered:0\u001b[39m\u001b[39m'\u001b[39m:hidden})\n\u001b[0;32m      <a href='vscode-notebook-cell:/c%3A/Users/YAJAS/OneDrive/Desktop/MInor%20Project/delta.ipynb#X25sZmlsZQ%3D%3D?line=2'>3</a>\u001b[0m plt\u001b[39m.\u001b[39mimshow(denormalize_batch(revealed\u001b[39m.\u001b[39msqueeze()))\n",
      "\u001b[1;31mNameError\u001b[0m: name 'sess' is not defined"
     ]
    }
   ],
   "source": [
    "revealed = sess.run(deploy_reveal_image_op,feed_dict={'deploy_covered:0':hidden})\n",
    "\n",
    "plt.imshow(denormalize_batch(revealed.squeeze()))"
   ]
  },
  {
   "cell_type": "code",
   "execution_count": 18,
   "id": "17eb573b-0856-4f31-80bc-e2f168edf267",
   "metadata": {},
   "outputs": [
    {
     "name": "stdout",
     "output_type": "stream",
     "text": [
      "Time elapsed (hh:mm:ss.ms) 0:00:12.591116\n"
     ]
    }
   ],
   "source": [
    "print('Time elapsed (hh:mm:ss.ms) {}'.format(datetime.now() - start_time))"
   ]
  },
  {
   "cell_type": "code",
   "execution_count": null,
   "id": "37386857",
   "metadata": {},
   "outputs": [],
   "source": []
  },
  {
   "cell_type": "code",
   "execution_count": null,
   "id": "1bf6e014",
   "metadata": {},
   "outputs": [],
   "source": []
  },
  {
   "cell_type": "code",
   "execution_count": null,
   "id": "e826f1a9",
   "metadata": {},
   "outputs": [],
   "source": []
  }
 ],
 "metadata": {
  "kernelspec": {
   "display_name": "Python 3 (ipykernel)",
   "language": "python",
   "name": "python3"
  },
  "language_info": {
   "codemirror_mode": {
    "name": "ipython",
    "version": 3
   },
   "file_extension": ".py",
   "mimetype": "text/x-python",
   "name": "python",
   "nbconvert_exporter": "python",
   "pygments_lexer": "ipython3",
   "version": "3.10.2"
  }
 },
 "nbformat": 4,
 "nbformat_minor": 5
}
